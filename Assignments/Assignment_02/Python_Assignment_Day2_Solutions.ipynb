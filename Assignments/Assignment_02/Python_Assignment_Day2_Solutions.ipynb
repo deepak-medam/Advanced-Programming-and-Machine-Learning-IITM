{
  "nbformat": 4,
  "nbformat_minor": 0,
  "metadata": {
    "colab": {
      "provenance": []
    },
    "kernelspec": {
      "name": "python3",
      "display_name": "Python 3"
    },
    "language_info": {
      "name": "python"
    }
  },
  "cells": [
    {
      "cell_type": "markdown",
      "source": [
        "#---------------------LIST---------------------\n",
        "\n",
        "---\n",
        "\n",
        "\n"
      ],
      "metadata": {
        "id": "IlizCm40vkNz"
      }
    },
    {
      "cell_type": "markdown",
      "source": [
        "\n",
        "\n",
        "```\n",
        "# Python List:\n",
        "1. Create your own lists otherwise use the\n",
        "List1 = ['hello','GUVI','GEEK'] to perform the below Python list  Operations?\n",
        "   A. Repetition (*)\n",
        "   B. Concatenation (+)\n",
        "   C. Membership\n",
        "   D. Length\n",
        "   E. Iteration\n",
        "```\n",
        "\n"
      ],
      "metadata": {
        "id": "AbdK9XWjlng0"
      }
    },
    {
      "cell_type": "code",
      "execution_count": 43,
      "metadata": {
        "colab": {
          "base_uri": "https://localhost:8080/"
        },
        "id": "Dkig0nPxlR5b",
        "outputId": "32eb308c-4bd5-4766-e3d7-76a740d9739f"
      },
      "outputs": [
        {
          "output_type": "stream",
          "name": "stdout",
          "text": [
            "hellohellohello\n",
            "GUVIGUVIGUVI\n",
            "GEEKGEEKGEEK\n",
            "['hello', 'GUVI', 'GEEK', 'hello', 'GUVI', 'GEEK', 'hello', 'GUVI', 'GEEK']\n",
            "hello GUVI GEEK \n",
            "['hello', 'GUVI', 'GEEK']\n",
            "['Saturday']\n",
            "['hello', 'GUVI', 'GEEK', 'Saturday']\n",
            "True\n",
            "True\n",
            "True\n",
            "3\n"
          ]
        }
      ],
      "source": [
        "list1 = ['hello','GUVI','GEEK']\n",
        "list3= ['Saturday']\n",
        "\n",
        "# 1.A. Repetition:\n",
        "\n",
        "# For item repetition\n",
        "for item in list1:\n",
        "  print(item*3)\n",
        "# For List repetition\n",
        "list2 = list1*3\n",
        "print(list2)\n",
        "\n",
        "\n",
        "# 1.B. Concatenation (+):\n",
        "conc_str = \"\"\n",
        "for item in list1:\n",
        "  conc_str += item + \" \"\n",
        "print(conc_str)\n",
        "#For list\n",
        "list4 = list1 + list3\n",
        "print(list1)\n",
        "print(list3)\n",
        "print(list4)\n",
        "\n",
        "# 1.C. Membership:\n",
        "print(\"hello\" in list1)\n",
        "print(\"GUVI\" in list1)\n",
        "print(\"GEEK\" in list1)\n",
        "\n",
        "\n",
        "# 1.D. Length:\n",
        "list_len = len(list1)\n",
        "print(list_len)\n",
        "\n",
        "# 1.E. Iteration:\n"
      ]
    },
    {
      "cell_type": "markdown",
      "source": [
        "2.1. Create your own lists to perform the below Python List Built-in functions?\n",
        "otherwise use the\n",
        "\n",
        "                   List1 = [15, 300, 2700, 821]\n",
        "                   List2 = [12, 2]\n",
        "                   List3 = [34, 567, 78]\n",
        "   A.  max(list)    \n",
        "   B.  min(list)    \n",
        "   C.  list(seq)      \n"
      ],
      "metadata": {
        "id": "mOtwBEurpDKz"
      }
    },
    {
      "cell_type": "code",
      "source": [
        "List1 = [15, 300, 2700, 821]\n",
        "List2 = [12, 2]\n",
        "List3 = [34, 567, 78]\n",
        "lis_str = \"23, 24, 25\"\n",
        "# 2.A)  max():\n",
        "print(max(List1))\n",
        "\n",
        "# 2.B) min():\n",
        "print(min(List3))\n",
        "\n",
        "# 2.C) list:\n",
        "lis_str = lis_str.split(\",\")\n",
        "list_4 = list(lis_str)\n",
        "print(list_4)"
      ],
      "metadata": {
        "colab": {
          "base_uri": "https://localhost:8080/"
        },
        "id": "NnPpX94QpCkZ",
        "outputId": "9cf75bbe-f1fc-473b-92ec-a8e23426d422"
      },
      "execution_count": 16,
      "outputs": [
        {
          "output_type": "stream",
          "name": "stdout",
          "text": [
            "2700\n",
            "34\n",
            "['23', ' 24', ' 25']\n"
          ]
        }
      ]
    },
    {
      "cell_type": "markdown",
      "source": [
        "3. Create your own lists to perform the below Python List built-in methods\n",
        "\n",
        "   A.  list.append()   \n",
        "   B.  list.clear()   \n",
        "   C.  List.copy()          \n",
        "   D.  list.count()         \n",
        "   E.  list.extend()\n",
        "   \n",
        "   F.  list.index()\n",
        "   \n",
        "   G.  list.insert()  \n",
        "   H.  list.pop()\n",
        "   \n",
        "   I.  list.remove()    \n",
        "   J.  list.reverse()         \n",
        "   K.  list.sort()\n"
      ],
      "metadata": {
        "id": "W6EGmhVDqXfy"
      }
    },
    {
      "cell_type": "code",
      "source": [
        "list1 = [15, 300, 2700, 821]\n",
        "list1.append(285)\n",
        "print(list1)\n",
        "\n",
        "list2 = list1.copy()\n",
        "print(list2)\n",
        "\n",
        "list1.clear()\n",
        "print(list1)\n",
        "\n",
        "ele_count = list2.count(300)\n",
        "print(ele_count)\n",
        "\n",
        "list2.extend([269])\n",
        "print(list2)\n",
        "\n",
        "ele_idx = list2.index(269)\n",
        "print(ele_idx)\n",
        "\n",
        "list2.insert(len(list2), 270)\n",
        "print(list2)\n",
        "\n",
        "list2.pop(6)\n",
        "print(list2)\n",
        "\n",
        "list2.remove(269)\n",
        "print(list2)\n",
        "\n",
        "list2.reverse()\n",
        "print(list2)\n",
        "\n",
        "list2.sort()\n",
        "print(list2)"
      ],
      "metadata": {
        "colab": {
          "base_uri": "https://localhost:8080/"
        },
        "id": "rnWF-dayqXLc",
        "outputId": "9a48c2f4-60a2-46c9-99a2-28a7cb29755d"
      },
      "execution_count": 39,
      "outputs": [
        {
          "output_type": "stream",
          "name": "stdout",
          "text": [
            "[15, 300, 2700, 821, 285]\n",
            "[15, 300, 2700, 821, 285]\n",
            "[]\n",
            "1\n",
            "[15, 300, 2700, 821, 285, 269]\n",
            "5\n",
            "[15, 300, 2700, 821, 285, 269, 270]\n",
            "[15, 300, 2700, 821, 285, 269]\n",
            "[15, 300, 2700, 821, 285]\n",
            "[285, 821, 2700, 300, 15]\n",
            "[15, 285, 300, 821, 2700]\n"
          ]
        }
      ]
    },
    {
      "cell_type": "markdown",
      "source": [
        "#---------------------TUPLE---------------------\n",
        "\n",
        "---\n"
      ],
      "metadata": {
        "id": "LX0Hn_mHwJfp"
      }
    },
    {
      "cell_type": "markdown",
      "source": [
        "# Python Tuple\n",
        "Create your own Tuple to perform the below Python tuple Operations ? otherwise use the below\n",
        "\n",
        "Tuple1 = ('a','b','c','d')\n",
        "\n",
        "Tuple2 = ('e','f','g','h')\n",
        "\n",
        "1. Tuple Operations\n",
        "\n",
        "\n",
        "> A. Repetition (*)\n",
        "\n",
        "> B. Concatenation (+)\n",
        "\n",
        "> C. Membership\n",
        "\n",
        "> D. Length\n",
        "\n",
        "> E. Iteration\n",
        "\n",
        "\n"
      ],
      "metadata": {
        "id": "hdWdbkLBwOqX"
      }
    },
    {
      "cell_type": "code",
      "source": [
        "tuple1 = ('a','b','c','d')\n",
        "tuple2 = ('e','f','g','h')\n",
        "\n",
        "print(tuple1 * 2)\n",
        "print(tuple1 + tuple2)\n",
        "print('a' in tuple1)\n",
        "print('b' in tuple2)\n",
        "print(len(tuple1))\n",
        "for char in tuple1:\n",
        "  print(char)"
      ],
      "metadata": {
        "colab": {
          "base_uri": "https://localhost:8080/"
        },
        "id": "Ta3Wl6d2wMvw",
        "outputId": "58aeaed9-94e9-4369-f06e-a4ebe4bc38f2"
      },
      "execution_count": 47,
      "outputs": [
        {
          "output_type": "stream",
          "name": "stdout",
          "text": [
            "('a', 'b', 'c', 'd', 'a', 'b', 'c', 'd')\n",
            "('a', 'b', 'c', 'd', 'e', 'f', 'g', 'h')\n",
            "True\n",
            "False\n",
            "4\n",
            "a\n",
            "b\n",
            "c\n",
            "d\n"
          ]
        }
      ]
    },
    {
      "cell_type": "markdown",
      "source": [
        "2.Create your own Tuple to perform the below Python tuple inbuilt functions ?\n",
        "otherwise use the below\n",
        "      \n",
        "        Tuple1 = (1,4,2,4,5,6,3,5,4,6,77,8,7,7,876,89,8765,4,5,1,876,9,3456,4234)\n",
        "       \n",
        "A. max(Tuple)   \n",
        "B. min(Tuple)     \n",
        "C. Tuple(seq)\n"
      ],
      "metadata": {
        "id": "kH-LyhuWw5_4"
      }
    },
    {
      "cell_type": "code",
      "source": [
        "Tuple1 = (1,4,2,4,5,6,3,5,4,6,77,8,7,7,876,89,8765,4,5,1,876,9,3456,4234)\n",
        "tup_str = \"23, 24, 25\"\n",
        "print(max(Tuple1))\n",
        "print(min(Tuple1))\n",
        "tup_str = tup_str.split(\",\")\n",
        "Tuple2 = tuple(tup_str)\n",
        "print(Tuple2)"
      ],
      "metadata": {
        "colab": {
          "base_uri": "https://localhost:8080/"
        },
        "id": "jS-I6o8LxH2N",
        "outputId": "04e3a50f-d01f-448e-e7b9-ec1f7acf68c3"
      },
      "execution_count": 50,
      "outputs": [
        {
          "output_type": "stream",
          "name": "stdout",
          "text": [
            "8765\n",
            "1\n",
            "('23', ' 24', ' 25')\n"
          ]
        }
      ]
    },
    {
      "cell_type": "markdown",
      "source": [
        "#---------------------SET---------------------\n",
        "\n",
        "---\n",
        "\n",
        "# Python Set\n",
        "Create your own Set to operate the below Python Set Operations ?\n",
        "otherwise use the below set:\n",
        "              \n",
        "              Set1 = {1,4,2,4,5,6,3,5,4,6,77,8,7,7,876}\n",
        "              Set2 = {3,432,5,6,4,6,7,6,5,6,54,567,5}\n",
        "\n",
        "\n",
        "1. Set Operations\n",
        "\n",
        "  > A. Union\n",
        "\n",
        "  > B. Intersection\n",
        "\n",
        "  > C. Difference\n",
        "\n",
        "  > D. Symmetric difference"
      ],
      "metadata": {
        "id": "VleAZbhXznZ6"
      }
    },
    {
      "cell_type": "code",
      "source": [
        "Set1 = {1,4,2,4,5,6,3,5,4,6,77,8,7,7,876}\n",
        "Set2 = {3,432,5,6,4,6,7,6,5,6,54,567,5}\n",
        "\n",
        "print(Set1.union(Set2)) # |\n",
        "print(Set1.intersection(Set2)) # &\n",
        "print(Set1.difference(Set2)) # -\n",
        "print(Set1.symmetric_difference(Set2)) # ^"
      ],
      "metadata": {
        "colab": {
          "base_uri": "https://localhost:8080/"
        },
        "id": "0fKOsg4FzqVR",
        "outputId": "add32ca6-9e28-47a7-c3f4-30a1a1e1375c"
      },
      "execution_count": 53,
      "outputs": [
        {
          "output_type": "stream",
          "name": "stdout",
          "text": [
            "{1, 2, 3, 4, 5, 6, 7, 8, 876, 77, 432, 54, 567}\n",
            "{3, 4, 5, 6, 7}\n",
            "{1, 2, 8, 876, 77}\n",
            "{1, 2, 8, 876, 77, 432, 54, 567}\n"
          ]
        }
      ]
    },
    {
      "cell_type": "markdown",
      "source": [
        "#---------------------DICTIONARY---------------------\n",
        "\n",
        "---\n",
        "# Python Dictionary\n",
        "Create your own Dictionary to perform the below Python Built-in Dictionary functions\n",
        "otherwise use the below Dictionary:\n",
        "\n",
        "                           dict = {'Name': 'Student', 'Age': 27};\n",
        "   A.  len(dict)    \n",
        "   B.  str(dict)      \n",
        "   C.  type(variable)\n"
      ],
      "metadata": {
        "id": "sI3WBUyJ2GT3"
      }
    },
    {
      "cell_type": "code",
      "source": [
        "dict_ = {'Name': 'Student', 'Age': 27}\n",
        "\n",
        "print(len(dict_))\n",
        "print(str(dict_))\n",
        "print(type(dict_))"
      ],
      "metadata": {
        "colab": {
          "base_uri": "https://localhost:8080/"
        },
        "id": "mxlSpdRc2RFG",
        "outputId": "a294cfde-7b81-4649-af05-9ee7d53faa60"
      },
      "execution_count": 55,
      "outputs": [
        {
          "output_type": "stream",
          "name": "stdout",
          "text": [
            "2\n",
            "{'Name': 'Student', 'Age': 27}\n",
            "<class 'dict'>\n"
          ]
        }
      ]
    },
    {
      "cell_type": "markdown",
      "source": [
        "2.Create your own Dictionary to perform the below Python Built-in Dictionary methods\n",
        "otherwise use the below Dictionary:\n",
        "                \n",
        "                dictionaries = {0:\" Data\",1: \"GUVI\", 2: \"GEEK\",3:\"Python\",4:\"Happy\"}\n",
        "A.  dict.clear()\n",
        "\n",
        "B.  dict.copy()\n",
        "\n",
        "C.  dict.fromkeys()\n",
        "\n",
        "   D.  dict.get(key[, value])    \n",
        "   E.  dict.items()   \n",
        "   F.  dict.keys()   \n",
        "   G.  dict.setdefault()  \n",
        "   H.  dict.update()  \n",
        "   I.  dict.values()  \n",
        "\n"
      ],
      "metadata": {
        "id": "po5rTYtB2ndb"
      }
    },
    {
      "cell_type": "code",
      "source": [
        "work_dict = {0:\" Data\",1: \"GUVI\", 2: \"GEEK\",3:\"Python\",4:\"Happy\"}\n",
        "\n",
        "copy_dict = work_dict.copy()\n",
        "print(copy_dict)\n",
        "\n",
        "copy_dict.clear()\n",
        "print(copy_dict)\n",
        "\n",
        "key_dict = dict.fromkeys(work_dict, 'python')\n",
        "print(key_dict)\n",
        "\n",
        "wanted = work_dict.get(3)\n",
        "print(wanted)\n",
        "\n",
        "for k,v in work_dict.items():\n",
        "  print(k, v)\n",
        "\n",
        "for k in work_dict.keys():\n",
        "  print(k)\n",
        "\n",
        "work_dict.setdefault(5, 'coding')\n",
        "print(work_dict)\n",
        "\n",
        "work_dict.update({0:'ML'})\n",
        "print(work_dict)\n",
        "\n",
        "for v in work_dict.values():\n",
        "  print(v)"
      ],
      "metadata": {
        "colab": {
          "base_uri": "https://localhost:8080/"
        },
        "id": "ikA5gPSN3BVu",
        "outputId": "f53d0813-43b5-4bd2-bb80-01704f229c8e"
      },
      "execution_count": 68,
      "outputs": [
        {
          "output_type": "stream",
          "name": "stdout",
          "text": [
            "{0: ' Data', 1: 'GUVI', 2: 'GEEK', 3: 'Python', 4: 'Happy'}\n",
            "{}\n",
            "{0: 'python', 1: 'python', 2: 'python', 3: 'python', 4: 'python'}\n",
            "Python\n",
            "0  Data\n",
            "1 GUVI\n",
            "2 GEEK\n",
            "3 Python\n",
            "4 Happy\n",
            "0\n",
            "1\n",
            "2\n",
            "3\n",
            "4\n",
            "{0: ' Data', 1: 'GUVI', 2: 'GEEK', 3: 'Python', 4: 'Happy', 5: 'coding'}\n",
            "{0: 'ML', 1: 'GUVI', 2: 'GEEK', 3: 'Python', 4: 'Happy', 5: 'coding'}\n",
            "ML\n",
            "GUVI\n",
            "GEEK\n",
            "Python\n",
            "Happy\n",
            "coding\n"
          ]
        }
      ]
    },
    {
      "cell_type": "markdown",
      "source": [
        "# Conditional Statements\n",
        "   1. IF\n",
        "   2. IF-ELSE\n",
        "   3. If...Elif...Else\n"
      ],
      "metadata": {
        "id": "fy2YMtRe5WhO"
      }
    },
    {
      "cell_type": "code",
      "source": [
        "# 1. Write if statement 13 is greater than 25?\n",
        "num_1 = 25\n",
        "if 26 > num_1:\n",
        "  print(\"It's greater\")\n",
        "\n",
        "# 2.  Write a if else  statement to find if the number is divisible by 25?\n",
        "num_2 = 36\n",
        "if num_2 % 25 == 0:\n",
        "  print(\"It's divisible\")\n",
        "else:\n",
        "  print(\"It's not divisible\")\n",
        "\n",
        "# 3.Using the three variables 'a = 154; b = 2451; c = 6054', Write a If...Elif...Else statement to find the greatest number\n",
        "a = 154\n",
        "b = 2451\n",
        "c = 6054\n",
        "if a > b:\n",
        "  print(\"a is greater\")\n",
        "elif b > c:\n",
        "  print(\"b is greater\")\n",
        "elif c > a:\n",
        "  print(\"C is greater\")\n",
        "else:\n",
        "  print(\"a or b or c\")\n"
      ],
      "metadata": {
        "colab": {
          "base_uri": "https://localhost:8080/"
        },
        "id": "PhAeGpCB5bRs",
        "outputId": "9feea8e3-7436-49a3-e405-f70b0fcd9316"
      },
      "execution_count": 77,
      "outputs": [
        {
          "output_type": "stream",
          "name": "stdout",
          "text": [
            "It's greater\n",
            "It's not divisible\n",
            "b is greater\n"
          ]
        }
      ]
    }
  ]
}
