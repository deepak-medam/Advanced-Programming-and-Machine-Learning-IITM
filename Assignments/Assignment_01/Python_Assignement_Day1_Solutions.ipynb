{
  "cells": [
    {
      "cell_type": "markdown",
      "metadata": {
        "id": "D-KgkVX3IZ-S"
      },
      "source": [
        "1.  Python Program to exchange the values of two numbers without using a temporary variable."
      ]
    },
    {
      "cell_type": "code",
      "execution_count": 2,
      "metadata": {
        "id": "yldf_YhdIZ-T",
        "colab": {
          "base_uri": "https://localhost:8080/"
        },
        "outputId": "f2e90db5-c97b-4497-a885-0fa7945dad31"
      },
      "outputs": [
        {
          "output_type": "stream",
          "name": "stdout",
          "text": [
            "6 10\n"
          ]
        }
      ],
      "source": [
        "a = 10\n",
        "b = 6\n",
        "a,b = b,a\n",
        "print(a, b)"
      ]
    },
    {
      "cell_type": "markdown",
      "metadata": {
        "id": "MrK3aZMGIZ-Y"
      },
      "source": [
        "2. Write a python code to replace all  \"a\"  with 2 for the given variable\n",
        "s = 'abc12321cba'"
      ]
    },
    {
      "cell_type": "code",
      "execution_count": 12,
      "metadata": {
        "id": "J7rr7O5XIZ-Z",
        "colab": {
          "base_uri": "https://localhost:8080/"
        },
        "outputId": "0d1dd951-60c9-4907-fb78-25e591e40b97"
      },
      "outputs": [
        {
          "output_type": "stream",
          "name": "stdout",
          "text": [
            "2bc12321cb2\n"
          ]
        }
      ],
      "source": [
        "s = 'abc12321cba'\n",
        "s = s.replace('a', '2')\n",
        "print(s)"
      ]
    },
    {
      "cell_type": "markdown",
      "metadata": {
        "id": "Zo8gMGlbIZ-g"
      },
      "source": [
        "3. Python code for to  remove first character in string?"
      ]
    },
    {
      "cell_type": "code",
      "execution_count": 13,
      "metadata": {
        "id": "XTIKmVpiIZ-h",
        "colab": {
          "base_uri": "https://localhost:8080/",
          "height": 36
        },
        "outputId": "efcee9c4-b0b5-4cba-a4dc-3ce293c78e34"
      },
      "outputs": [
        {
          "output_type": "execute_result",
          "data": {
            "text/plain": [
              "'bc131cb'"
            ],
            "application/vnd.google.colaboratory.intrinsic+json": {
              "type": "string"
            }
          },
          "metadata": {},
          "execution_count": 13
        }
      ],
      "source": [
        "s.replace(s[0], \"\")"
      ]
    },
    {
      "cell_type": "markdown",
      "metadata": {
        "id": "XBhfFfEIIZ-n"
      },
      "source": [
        "4. Concatenate two strings  \n",
        "First Input : \"hello\"\n",
        "Second Input : \"guvi\"\n",
        "desired output :   \"hello guvi\""
      ]
    },
    {
      "cell_type": "code",
      "execution_count": 14,
      "metadata": {
        "id": "qVhNDe9mIZ-p",
        "colab": {
          "base_uri": "https://localhost:8080/"
        },
        "outputId": "c14508f5-6812-4648-8356-2f76893c1c71"
      },
      "outputs": [
        {
          "output_type": "stream",
          "name": "stdout",
          "text": [
            "hello\n",
            "guvi\n",
            "hello guvi\n"
          ]
        }
      ],
      "source": [
        "first = input()\n",
        "second = input()\n",
        "print(first +\" \" + second)"
      ]
    },
    {
      "cell_type": "markdown",
      "metadata": {
        "id": "W1CyejMTIZ-t"
      },
      "source": [
        "5. Repeat the string \"hello guvi\" 3 times\n",
        "desired output :  'hello guvi hello guvi hello guvi '"
      ]
    },
    {
      "cell_type": "code",
      "execution_count": 16,
      "metadata": {
        "id": "6B83XYHVIZ-u",
        "colab": {
          "base_uri": "https://localhost:8080/"
        },
        "outputId": "535680c6-dfb5-41c9-9de9-967dd418c1eb"
      },
      "outputs": [
        {
          "output_type": "stream",
          "name": "stdout",
          "text": [
            "hello guvi hello guvi hello guvi \n"
          ]
        }
      ],
      "source": [
        "s = \"hello guvi \"\n",
        "print(s*3)"
      ]
    },
    {
      "cell_type": "markdown",
      "metadata": {
        "id": "4oblWnrSIZ-y"
      },
      "source": [
        "6. Create 3 variables a1,a2,a3. Assign the same value \" 4 \" to all the variables in a single line of code."
      ]
    },
    {
      "cell_type": "code",
      "execution_count": 18,
      "metadata": {
        "id": "O7nH3nd-IZ-y",
        "colab": {
          "base_uri": "https://localhost:8080/"
        },
        "outputId": "45626ab3-b966-4fd5-935b-e53fb8d576db"
      },
      "outputs": [
        {
          "output_type": "stream",
          "name": "stdout",
          "text": [
            "4 4 4\n"
          ]
        }
      ],
      "source": [
        "a1, a2, a3 = 4, 4, 4\n",
        "print(a1, a2, a3)"
      ]
    },
    {
      "cell_type": "markdown",
      "metadata": {
        "id": "fs_t4D-oIZ-2"
      },
      "source": [
        "7. Calculate BMI of a person using the height and weight.\n",
        "BMI = weight / (height **2)\n"
      ]
    },
    {
      "cell_type": "code",
      "execution_count": 21,
      "metadata": {
        "id": "N_VZSoYjIZ-3",
        "colab": {
          "base_uri": "https://localhost:8080/"
        },
        "outputId": "01cbbf3b-0051-4b7e-eb47-5cd99f066068"
      },
      "outputs": [
        {
          "output_type": "stream",
          "name": "stdout",
          "text": [
            "25.30864197530864\n"
          ]
        }
      ],
      "source": [
        "weight = 82\n",
        "height = 1.80\n",
        "bmi = weight /(height**2)\n",
        "print(bmi)"
      ]
    },
    {
      "cell_type": "markdown",
      "metadata": {
        "id": "JgXK2m28IZ-7"
      },
      "source": [
        "8.Write a python program to calculate the area of circle."
      ]
    },
    {
      "cell_type": "code",
      "execution_count": 23,
      "metadata": {
        "id": "m73v7qoCIZ-8",
        "colab": {
          "base_uri": "https://localhost:8080/"
        },
        "outputId": "91ca2ac1-d4d9-4fee-ee14-6404db70c180"
      },
      "outputs": [
        {
          "output_type": "stream",
          "name": "stdout",
          "text": [
            "78.53981633974483\n"
          ]
        }
      ],
      "source": [
        "import math\n",
        "\n",
        "radius = 5\n",
        "area = math.pi*(radius**2)\n",
        "print(area)"
      ]
    },
    {
      "cell_type": "markdown",
      "metadata": {
        "id": "BHXFt9VwIZ_A"
      },
      "source": [
        "9.Calculate the simple interest\n",
        "simple_interest = p * n * r /100"
      ]
    },
    {
      "cell_type": "code",
      "execution_count": 27,
      "metadata": {
        "id": "7wHLjXC4IZ_B",
        "colab": {
          "base_uri": "https://localhost:8080/"
        },
        "outputId": "194afb34-d6f9-4c83-c649-985e2f842795"
      },
      "outputs": [
        {
          "output_type": "stream",
          "name": "stdout",
          "text": [
            "100.0\n"
          ]
        }
      ],
      "source": [
        "principle = 500\n",
        "n_years = 5\n",
        "rate_of_interest = 4\n",
        "simple_interest = (principle*n_years*rate_of_interest)/100\n",
        "print(simple_interest)"
      ]
    },
    {
      "cell_type": "markdown",
      "metadata": {
        "id": "afLADSCGIZ_G"
      },
      "source": [
        "10.Python code to calculate the square root of the given number(run time variable)"
      ]
    },
    {
      "cell_type": "code",
      "execution_count": 28,
      "metadata": {
        "id": "XBTku4euIZ_H",
        "colab": {
          "base_uri": "https://localhost:8080/"
        },
        "outputId": "3b436d26-ed51-4fba-9f83-93164427160d"
      },
      "outputs": [
        {
          "output_type": "stream",
          "name": "stdout",
          "text": [
            "Enter the number to calculare sqrt4\n",
            "2.0\n"
          ]
        }
      ],
      "source": [
        "user_input = float(input(\"Enter the number to calculare sqrt\"))\n",
        "square_rt = math.sqrt(user_input)\n",
        "print(square_rt)"
      ]
    }
  ],
  "metadata": {
    "colab": {
      "provenance": []
    },
    "kernelspec": {
      "display_name": "Python 3 (ipykernel)",
      "language": "python",
      "name": "python3"
    },
    "language_info": {
      "codemirror_mode": {
        "name": "ipython",
        "version": 3
      },
      "file_extension": ".py",
      "mimetype": "text/x-python",
      "name": "python",
      "nbconvert_exporter": "python",
      "pygments_lexer": "ipython3",
      "version": "3.9.13"
    }
  },
  "nbformat": 4,
  "nbformat_minor": 0
}
